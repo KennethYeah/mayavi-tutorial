{
 "cells": [
  {
   "cell_type": "markdown",
   "metadata": {
    "slideshow": {
     "slide_type": "slide"
    }
   },
   "source": [
    "# Mayavi库的基本元素\n",
    "\n",
    "## 1、Mayavi库中主要有两大部分功能:\n",
    "\n",
    "### 1.1 用于处理图形可视化和图形操作的mlab模块.\n",
    "mlab包含:\n",
    "* 绘图函数：实现已有的数据进行可视化显示，可以是numpy数组构建的，也可以是外部读取的，比如读取一个文件。\n",
    "* 图形控制函数：实质上是对mayavi中的figure进行控制，比如可以通过gcf获得当前视图的指针，也可以通过clf来清空当前图形，通过close关闭当前图形    * 图形修饰函数：对当前绘制的函数进行一定的修饰和装饰，比如说绘制完图形之后需要增加一个颜色标识栏。\n",
    "* 图形控制函数，其他函数和Mlab管线控制函数或者是对坐标轴增加相应的标签等，比如使用xlaber可以在x轴上增加相应的标签\n",
    "* 相机控制函数：对相机的操作，比如说move函数来移动相机到某个位置上，使用pitch,roll,yaw函数控制相机进行旋转等\n",
    "* 其他函数：\n",
    "    * animate:生成一段动态的可视化效果\n",
    "    * get_engine:获得当前管线的engine\n",
    " \n",
    "  \n",
    "### 1.2 操作管线对象窗口对象的api.\n",
    "Mlab管线控制：可以设置当前管线的数据源也可以为当前绘制管线增加数据集使用addataset等。\n",
    "\n",
    "Mayavi API:\n",
    "* 管线基础对象:可以通过这类函数获得Mayavi管线的各个基本对象,包括Scene,Source,Filter,ModuleManager,Module,PipelineBase,Engine等。\n",
    "* 主视窗和UI对象：用于视图绘制和UI绘制的,比如MayaviScene,SceneEditor等。\n",
    "* 我们可以在其他库中构建的用户界面里嵌入Mayavi窗口,比如可以结合TraitsUI和Mayavi构建一个可交互的三维可视化应用\n",
    "\n",
    "mayavi的官方网址其中有所有的函数说明地址：\n",
    "http://docs.enthought.com/mayavi/mayavi/index.html"
   ]
  },
  {
   "cell_type": "code",
   "execution_count": 7,
   "metadata": {},
   "outputs": [],
   "source": [
    "%gui qt4\n",
    "from mayavi import mlab\n"
   ]
  },
  {
   "cell_type": "code",
   "execution_count": 23,
   "metadata": {},
   "outputs": [],
   "source": [
    "\"\"\"\n",
    "快速绘图实例：\n",
    "mayavi跟tvtk相比提供了更方便的可视化功能.通过调用mlab.mash绘制一个三维空间中图形的实例.\n",
    "mayavi中mlab模块提供了方便快捷地绘制三维图发函数，只要把数据准备好，通常只需要调用一次mlab的函数就可以看到数据的三维可视化效果。\n",
    "\"\"\"\n",
    "x = [[-1,1,1,-1,-1],[-1,1,1,-1,-1]]\n",
    "y = [[-1,-1,-1,-1,-1],[1,1,1,1,1]]\n",
    "z = [[1,1,-1,-1,1],[1,1,-1,-1,1]]\n",
    "s = mlab.mesh(x,y,z)\n"
   ]
  },
  {
   "cell_type": "markdown",
   "metadata": {
    "slideshow": {
     "slide_type": "slide"
    }
   },
   "source": [
    "Tips:\n",
    "按住shift键用左键对场景进行拖动平移场景或用shift+键盘键进行拖动\n",
    "鼠标右键上下拖动或使用+-按键进行场景缩放\n",
    "按ctrl键+左键拖动可以滚动相机,在程序中，通过传递关键字representation给mash函数可以指定绘制的表现形式.\n",
    "如果默认的，是surface我们可以换成wireframe或points。"
   ]
  },
  {
   "cell_type": "markdown",
   "metadata": {
    "slideshow": {
     "slide_type": "slide"
    }
   },
   "source": [
    "## 2、Mayavi管线的层级\n",
    "### 2.1、最高层为 Engine:\n",
    "引擎用于建立和销毁场景Scene，并不显示在管线的视图中.\n",
    "* Scence场景:每个场景下有多个数据集合Sources，为Mayavi可视化提供了数据\n",
    "* Filter:应用于Scence上对数据进行变换\n",
    "* Module Manager:用来控制颜色，用来表示标量和矢量数据，\n",
    "* 在pipline视图中表示为Colors and Legends节点。\n",
    "* 可视化Modules:用于最终数据的显示，如线条，平面等"
   ]
  },
  {
   "cell_type": "code",
   "execution_count": 8,
   "metadata": {},
   "outputs": [
    {
     "name": "stdout",
     "output_type": "stream",
     "text": [
      "(252, 502) (252, 502) (252, 502)\n"
     ]
    }
   ],
   "source": [
    "#可以通过mlab.show_pipline()或点击左侧的第一个按钮显示mayavi管线的对话框\n",
    "#可以看见左侧用树状控件显示的mayavi一系列管线\n",
    "#为深入了解mayavi管线，我们先注释掉最后一行通过命令行来了解管线中的对象\n",
    "from numpy import pi,sin,cos,mgrid\n",
    "from mayavi import mlab\n",
    "\n",
    "#建立数据\n",
    "dphi, dtheta = pi/250.0, pi/250.0\n",
    "[phi,theta] = mgrid[0:pi+dphi*1.5:dphi,0:2*pi+dtheta*1.5:dtheta]\n",
    "m0, m1, m2, m3, m4, m5, m6, m7 = 4, 3, 2, 3, 6, 2, 6, 4\n",
    "r = sin(m0*phi)**m1 + cos(m2*phi)**m3 +sin(m4*theta)**m5 + cos(m6*theta)**m7\n",
    "x = r*sin(phi)*cos(theta)\n",
    "y = r*cos(phi)\n",
    "z = r*sin(phi)*sin(theta)\n",
    "\n",
    "print(x.shape,y.shape,z.shape)\n",
    "\n",
    "#对数据进行三维可视化\n",
    "s = mlab.mesh(x,y,z)\n"
   ]
  },
  {
   "cell_type": "markdown",
   "metadata": {
    "slideshow": {
     "slide_type": "slide"
    }
   },
   "source": [
    "## 2.2、管线中的对象scene\n",
    "\n",
    "Mayavi Scene是最顶层的对象，表示场景，其配置界面中可以设置场景的背景，前景色，场景中的灯光及其他一些选项。"
   ]
  },
  {
   "cell_type": "code",
   "execution_count": 9,
   "metadata": {},
   "outputs": [
    {
     "name": "stdout",
     "output_type": "stream",
     "text": [
      "<mayavi.core.scene.Scene object at 0x000002005BC22AF0>\n",
      "(0.5, 0.5, 0.5)\n"
     ]
    }
   ],
   "source": [
    "s = mlab.gcf() #获取对象的背景色（获取当前场景）\n",
    "print(s) #输出当前的对象状态\n",
    "print(s.scene.background)#输出当前场景的背景色"
   ]
  },
  {
   "cell_type": "markdown",
   "metadata": {
    "slideshow": {
     "slide_type": "slide"
    }
   },
   "source": [
    "## 2.3、scene下一级:GridSource(网格数据源)\n",
    "在配置界面中每一项为每个点所对应的标量数据的名称。\n",
    "\n",
    "在本例中只有一个名为scalars的标量数据，它是传递给mash的数组，它表示mash表面的每个点的数据\n"
   ]
  },
  {
   "cell_type": "code",
   "execution_count": 10,
   "metadata": {},
   "outputs": [
    {
     "name": "stdout",
     "output_type": "stream",
     "text": [
      "<mayavi.sources.vtk_data_source.VTKDataSource object at 0x000002005BBFB518>\n",
      "GridSource\n",
      "[(0.0, 2.0, 0.0), ..., (-0.025048897296365225, -1.9933803751132322, -0.00031479029697865414)], length = 126504\n",
      "[0.0, ..., -0.00031479029697865414], length = 126504\n"
     ]
    }
   ],
   "source": [
    "source = s.children[0]#获取GridSource对象\n",
    "print(source.name)#获取该节点名称\n",
    "print(repr(source.data.points)) #GridSource的坐标后面length=多少就是坐标数组大小是多少\n",
    "print(repr(source.data.point_data.scalars))#通过print函数打印出每个点对应的标量数组"
   ]
  },
  {
   "cell_type": "markdown",
   "metadata": {
    "slideshow": {
     "slide_type": "slide"
    }
   },
   "source": [
    "## 2.4、GridSource下一级:PolydataNormals(数据源的法向量)"
   ]
  },
  {
   "cell_type": "code",
   "execution_count": 11,
   "metadata": {},
   "outputs": [
    {
     "name": "stdout",
     "output_type": "stream",
     "text": [
      "<mayavi.filters.poly_data_normals.PolyDataNormals object at 0x000002005C62A518>\n"
     ]
    }
   ],
   "source": [
    "manager = source.children[0] #打印出PolydataNormals的相关信息\n",
    "print(manager)\n"
   ]
  },
  {
   "cell_type": "markdown",
   "metadata": {
    "slideshow": {
     "slide_type": "slide"
    }
   },
   "source": [
    "## 2.5、PolydataNormals下一级:Colors and legends\n",
    "\n",
    "在colors and legends对象配置页面中,Scalar LUT选项卡可以设置将标量转化为颜色的查询表。\n",
    "\n",
    "例如将LUT_mode改成Blues这样场景中的物体颜色会显示成白色到深蓝色的渐变。\n",
    "\n",
    "如果勾选选项Show legerd选择框在场景中将添加一个颜色条来显示颜色和标量之间的关系,当然，也可以通过程序更改这两个选项。\n"
   ]
  },
  {
   "cell_type": "code",
   "execution_count": 12,
   "metadata": {},
   "outputs": [],
   "source": [
    "colors = manager.children[0] #获取Colors and legends第一个子节点\n",
    "colors.scalar_lut_manager.lut_mode = 'Blues'\n",
    "colors.scalar_lut_manager.show_legend = True"
   ]
  },
  {
   "cell_type": "markdown",
   "metadata": {},
   "source": [
    "## 2.6、Colors and legends下一级：surface对象\n",
    "\n",
    "surface对象将GridSource输出的PolyData数据转换为最终在场景中显示的三维实体。\n",
    "\n",
    "通过它的配置界面Actor选项卡可以对实体进行配置，例如我们将Reprentation设置成wireframe并将Line width设置为0，则实体最终采用细线框来显示。\n",
    "\n",
    "我们将opasity设为0.6则实体变为半透明的状态，同样，我们也可以通过命令行的方式来更改这些属性。"
   ]
  },
  {
   "cell_type": "code",
   "execution_count": 13,
   "metadata": {},
   "outputs": [],
   "source": [
    "surface = colors.children[0]#获取colors的第一个子节点\n",
    "surface.actor.property.representation = 'wireframe'\n",
    "surface.actor.property.opacity = 0.6"
   ]
  },
  {
   "cell_type": "markdown",
   "metadata": {
    "slideshow": {
     "slide_type": "slide"
    }
   },
   "source": [
    "## 3、总结\n",
    "\n",
    "程序配置属性的整个步骤可以描述为：\n",
    "    1. 获得场景对象，mlab.gcf()\n",
    "    \n",
    "    2. 通过每个对象的children属性，在管线中找到需要修改的对象\n",
    "    \n",
    "    3.当其配置窗口中有多个选项卡的时候，或者有多个配置数组框时，属性需要一级一级获得。\n",
    "    \n",
    "    在程序配置属性的时候，为了方便配置各种属性的程序，mayavi提供了脚本录制功能。单机视图中的红色圆点，会打开一个脚本对话框，之后的界面配置操作都会被记录到此对话框中。"
   ]
  }
 ],
 "metadata": {
  "celltoolbar": "Slideshow",
  "kernelspec": {
   "display_name": "Python 3",
   "language": "python",
   "name": "python3"
  },
  "language_info": {
   "codemirror_mode": {
    "name": "ipython",
    "version": 3
   },
   "file_extension": ".py",
   "mimetype": "text/x-python",
   "name": "python",
   "nbconvert_exporter": "python",
   "pygments_lexer": "ipython3",
   "version": "3.6.4"
  }
 },
 "nbformat": 4,
 "nbformat_minor": 2
}
