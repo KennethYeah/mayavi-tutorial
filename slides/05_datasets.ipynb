{
 "cells": [
  {
   "cell_type": "markdown",
   "metadata": {
    "slideshow": {
     "slide_type": "slide"
    }
   },
   "source": [
    "# VTK/Mayavi: Datasets Primer 数据集入门\n",
    "\n",
    "**Prabhu Ramachandran**\n",
    "\n",
    "**Department of Aerospace Engineering, IIT Bombay**\n",
    "\n",
    "<br/>\n",
    "\n",
    "**SciPy 2018**\n",
    "\n",
    "**Austin, Texas, July 2018**\n"
   ]
  },
  {
   "cell_type": "markdown",
   "metadata": {
    "slideshow": {
     "slide_type": "slide"
    }
   },
   "source": [
    "## Outline\n",
    "\n",
    "- A、 Introduction\n",
    "- B、 VTK datasets in brief （这部分可以不管，作用不大）\n",
    "- C、 Creating datasets from Python\n"
   ]
  },
  {
   "cell_type": "markdown",
   "metadata": {
    "slideshow": {
     "slide_type": "slide"
    }
   },
   "source": [
    "## Outline\n",
    "\n",
    "- **Introduction**  $\\Longleftarrow$\n",
    "- VTK datasets\n",
    "- Creating datasets from Python\n"
   ]
  },
  {
   "cell_type": "markdown",
   "metadata": {
    "slideshow": {
     "slide_type": "slide"
    }
   },
   "source": [
    "## Datasets: Why the fuss? 为什么要大惊小怪？\n",
    "\n",
    "* 3D data requires more information than in 2D  3D数据比2D数据需要更多的信息\n",
    "\n",
    "* Topology is important 拓扑结构很重要\n",
    "\n",
    "* 2D is a lot easier 2D数据要简单得多\n",
    "\n",
    "注：前面几个介绍了mayavi的mlab。但要显示自己的数据，最重要的是构建数据源和在管线中显示该数据源。同时，由于所有的显示都是在TVTK中执行的，因此，数据源必须满足TVTK的相关规则，所以这里详细TVTK中的数据集，即数据源。\n"
   ]
  },
  {
   "cell_type": "markdown",
   "metadata": {
    "slideshow": {
     "slide_type": "slide"
    }
   },
   "source": [
    "## 1、 Topology 拓扑结构\n",
    "### Topology: mathematics 数学上的定义\n",
    "\n",
    "> A branch of mathematics which studies the properties of geometrical\n",
    "> forms which retain their identity under certain transformations, such as\n",
    "> stretching or twisting, which are homeomorphic.\n",
    "\n",
    "-- from the Collaborative International Dictionary of English\n",
    "\n",
    "### Topology: networking 网络上的定义\n",
    "\n",
    "> Which hosts are directly connected to which other hosts in a network.\n",
    "> Network layer processes need to consider the current network topology to\n",
    "> be able to route packets to their final destination reliably and\n",
    "> efficiently.\n",
    "\n",
    "-- from the free On-line Dictionary of Computing\n"
   ]
  },
  {
   "cell_type": "markdown",
   "metadata": {
    "slideshow": {
     "slide_type": "slide"
    }
   },
   "source": [
    "## 2、Topology and Grids 拓扑结构与网格\n",
    "\n",
    "* Layman definition: how are points of the space connected up to \n",
    "  form a line/surface/volume 外行定义：空间中的点如何连接称为一个线或者面或者块体\n",
    "\n",
    "* *Grid* in scientific computing: points + topology 在科学计算中网格由点和拓扑结构构成\n",
    "\n",
    "* Space broken into small \"pieces\" called 空间上分割为小的碎片，称为cell和elements\n",
    "    * Cells\n",
    "    * Elements\n",
    "\n",
    "* Data can be associated with the points or cells 数据总是跟点或者单元相关\n"
   ]
  },
  {
   "cell_type": "markdown",
   "metadata": {
    "slideshow": {
     "slide_type": "slide"
    }
   },
   "source": [
    "## The general idea 总体思路\n",
    "\n",
    "* Specify points of the space 空间中一系列离散点\n",
    "\n",
    "* Specify connectivity between points (topology) 点与点之间连接性\n",
    "\n",
    "* Connectivity creates \"cells\" 连接创造了单元\n",
    "\n",
    "* Specify \"attribute\" data at points or cells 具体的属性数据表现在点或者单元上\n",
    "\n",
    "<img src=\"MEDIA/m2/datasets/dataset_idea.png\" width=\"60%\" height=\"25%\" />\n"
   ]
  },
  {
   "cell_type": "markdown",
   "metadata": {
    "slideshow": {
     "slide_type": "slide"
    }
   },
   "source": [
    "## 3、Types of datasets 数据集的类型\n",
    "\n",
    "* Implicit topology (structured): 隐式拓扑（结构化）\n",
    "   * Image data (structured points) 图片数据\n",
    "   * Rectilinear grids 直线网格\n",
    "   * Structured grids 结构化网格\n",
    "\n",
    "* Explicit topology (unstructured): 显式拓扑（非结构化）\n",
    "   * Polygonal data (surfaces) 多边形数据（面）\n",
    "   * Unstructured grids 非结构化网格\n"
   ]
  },
  {
   "cell_type": "markdown",
   "metadata": {
    "slideshow": {
     "slide_type": "slide"
    }
   },
   "source": [
    "## Structured versus unstructured grids 结构化网格与非结构化网格\n",
    "\n",
    "* Important to understand the differences\n",
    "\n",
    "* Differences related to topology specification 主要是拓扑规范上的区别\n",
    "\n",
    "* Recall the `mlab` data sources?\n",
    "   * Unconnected\n",
    "   * Implicit connectivity\n",
    "   * Explicit connectivity\n"
   ]
  },
  {
   "cell_type": "markdown",
   "metadata": {
    "slideshow": {
     "slide_type": "slide"
    }
   },
   "source": [
    "## Unconnected sources\n",
    "\n",
    "| `scalar_scatter` | `vector_scatter` |\n",
    "| ---------------- | ---------------- |\n",
    "| <img src=\"MEDIA/m2/mlab/points3d_ex.png\"/> | <img src=\"MEDIA/m2/mlab/quiver3d_ex.png\"/> |\n",
    "|`PolyData`      | `PolyData`    |\n",
    "|`mlab.points3d`   | `mlab.quiver3d` |\n"
   ]
  },
  {
   "cell_type": "markdown",
   "metadata": {
    "slideshow": {
     "slide_type": "slide"
    }
   },
   "source": [
    "## Implicitly-connected sources\n",
    "\n",
    "| `scalar_field`    |   `vector_field`  |\n",
    "| ----------------- | ---------------   |\n",
    "| <img src=\"MEDIA/m2/mlab/contour3d.png\" height=\"75%\" width=\"100%\"/> | <img src=\"MEDIA/m2/mlab/flow_ex.png\" width=\"75%\" height=\"60%\" /> |\n",
    "| `ImageData`       | `ImageData`     |\n",
    "| `mlab.contour3d`  | `mlab.flow`     |\n"
   ]
  },
  {
   "cell_type": "markdown",
   "metadata": {
    "slideshow": {
     "slide_type": "slide"
    }
   },
   "source": [
    "## Implicitly-connected sources\n",
    "\n",
    "`array2d_source`\n",
    "\n",
    "<img src=\"MEDIA/m2/mlab/imshow_ex.png\" width=\"50%\" height=\"50%\"/>\n",
    "\n",
    "`ImageData`\n",
    "\n",
    "`mlab.imshow`\n"
   ]
  },
  {
   "cell_type": "markdown",
   "metadata": {
    "slideshow": {
     "slide_type": "slide"
    }
   },
   "source": [
    "## Explicitly-connected sources\n",
    "\n",
    "| `line_source`  | `triangular_mesh_source` |\n",
    "| -------------- | ---------------------- |\n",
    "| <img src=\"MEDIA/m2/mlab/plot3d_ex.png\"/> |  <img src=\"MEDIA/m2/mlab/triangular_mesh_ex.png\"/> |\n",
    "|`PolyData`      | `PolyData`    |\n",
    "|`mlab.plot3d`   | `mlab.triangular_mesh` |\n"
   ]
  },
  {
   "cell_type": "markdown",
   "metadata": {
    "slideshow": {
     "slide_type": "slide"
    }
   },
   "source": [
    "## Structured grids 结构性网格\n",
    "\n",
    "* Implicit topology associated with points 与点相关的隐式拓扑结构\n",
    "* Easiest example: a rectangular mesh 最简单的就是矩形网格\n",
    "* Non-rectangular mesh certainly possible 当然非矩形网格也是可能的\n",
    "\n",
    "\n",
    "|<img src=\"MEDIA/m2/datasets/rectangularsg.png\"/> | <img src=\"MEDIA/m2/datasets/sgrid.png\"/>|\n",
    "| ------ | ------- |\n"
   ]
  },
  {
   "cell_type": "markdown",
   "metadata": {
    "slideshow": {
     "slide_type": "slide"
    }
   },
   "source": [
    "## Unstructured grids 非结构化网格\n",
    "\n",
    "* Explicit topology specification 隐式的拓扑规范\n",
    "\n",
    "* Specified via connectivity lists 通过联通性列表来指定拓扑规范 \n",
    "\n",
    "* Different number of neighbors, different types of cells 不同的临近连接个数，不同的网格单元类型\n",
    "\n",
    "<img src=\"MEDIA/m2/datasets/unstructured.png\" width=\"60%\" height=\"25%\"/>\n"
   ]
  },
  {
   "cell_type": "markdown",
   "metadata": {
    "slideshow": {
     "slide_type": "slide"
    }
   },
   "source": [
    "### Different types of cells\n",
    "\n",
    "<img src=\"MEDIA/m2/datasets/cells.png\"/>\n"
   ]
  },
  {
   "cell_type": "markdown",
   "metadata": {
    "slideshow": {
     "slide_type": "slide"
    }
   },
   "source": [
    "## Scalar, vector and tensor fields 标量、矢量、张量场\n",
    "\n",
    "* Associate a scalar/vector/tensor with every point of the space\n",
    "\n",
    "* Scalar field: $ f(\\mathcal{R}^n) \\rightarrow \\mathcal{R}$\n",
    "* Vector field: $ f(\\mathcal{R}^n) \\rightarrow \\mathcal{R}^m$\n",
    "* Some examples:\n",
    "    * Temperature distribution on a rod 杆子上的温度分布\n",
    "    * Pressure distribution in room 房间中的压力分布\n",
    "    * Velocity field in room 房间中的速度场\n",
    "    * Vorticity field in room 房间中的漩涡场\n",
    "    * Stress tensor field on a surface 面上的应力张量场\n",
    "\n",
    "* Two aspects of field data, representation and visualization 场数据的两个方面：表示与可视化\n"
   ]
  },
  {
   "cell_type": "markdown",
   "metadata": {
    "slideshow": {
     "slide_type": "slide"
    }
   },
   "source": [
    "## A note on Cell Data 一个单元数据的笔记\n",
    "\n",
    "* Most algorithms work with point data 大部分算法跟点数据相关\n",
    "\n",
    "* Convert to point data: `CellDataToPointData` 转换点数据\n"
   ]
  },
  {
   "cell_type": "markdown",
   "metadata": {
    "slideshow": {
     "slide_type": "slide"
    }
   },
   "source": [
    "## Exercise\n",
    "<center>\n",
    "<img src=\"MEDIA/m2/mlab/points3d_ex.png\"/>\n",
    "</center>\n"
   ]
  },
  {
   "cell_type": "markdown",
   "metadata": {
    "slideshow": {
     "slide_type": "slide"
    }
   },
   "source": [
    "## Exercise\n",
    "<center>\n",
    "<img src=\"MEDIA/m2/mlab/plot3d_ex.png\"/>\n",
    "</center>\n"
   ]
  },
  {
   "cell_type": "markdown",
   "metadata": {
    "slideshow": {
     "slide_type": "slide"
    }
   },
   "source": [
    "## Exercise\n",
    "<center>\n",
    "<img src=\"MEDIA/m2/mlab/surf_ex.png\"/>\n",
    "</center>\n"
   ]
  },
  {
   "cell_type": "markdown",
   "metadata": {
    "slideshow": {
     "slide_type": "slide"
    }
   },
   "source": [
    "## Exercise\n",
    "<center>\n",
    "<img src=\"MEDIA/m2/mlab/contour3d.png\"/>\n",
    "</center>\n"
   ]
  },
  {
   "cell_type": "markdown",
   "metadata": {
    "slideshow": {
     "slide_type": "slide"
    }
   },
   "source": [
    "## Exercise\n",
    "<center>\n",
    "<img src=\"MEDIA/m2/mlab/triangular_mesh.png\"/>\n",
    "</center>\n"
   ]
  },
  {
   "cell_type": "markdown",
   "metadata": {
    "slideshow": {
     "slide_type": "slide"
    }
   },
   "source": [
    "## Outline\n",
    "\n",
    "- Introduction\n",
    "- **VTK datasets** $\\Longleftarrow$\n",
    "- Creating datasets from Python\n"
   ]
  },
  {
   "cell_type": "markdown",
   "metadata": {
    "slideshow": {
     "slide_type": "slide"
    }
   },
   "source": [
    "## Legacy VTK Data files 传统的VTK数据文件\n",
    "\n",
    "* Detailed documentation on this is available here:\n",
    "    [www.vtk.org/VTK/img/file-formats.pdf](https://www.vtk.org/VTK/img/file-formats.pdf)\n",
    "\n",
    "* VTK data files support the following:\n",
    "  1. Structured points (Image data)\n",
    "  1. Rectilinear grid\n",
    "  1. Structured grid\n",
    "  1. Unstructured grid\n",
    "  1. Polygonal data\n",
    "\n",
    "* Binary and ASCII files are supported\n"
   ]
  },
  {
   "cell_type": "markdown",
   "metadata": {
    "slideshow": {
     "slide_type": "slide"
    }
   },
   "source": [
    "## The different datasets 不同的数据集\n",
    "\n",
    "- Implicitly connected datasets\n",
    "\n",
    "   - Structured points/Image data: fixed spacing, orthogonal 固定正交空间\n",
    "   - Rectilinear grid: spacing variable but orthogonal coordinates 空间变化的但是正交的坐标系\n",
    "   - Structured grids: mappable to a meshgrid 可映射到网格\n",
    "\n",
    "- Explicitly connected\n",
    "\n",
    "   - Polygonal data: surfaces\n",
    "   - Unstructured grid: volumes/surfaces\n"
   ]
  },
  {
   "cell_type": "markdown",
   "metadata": {
    "slideshow": {
     "slide_type": "slide"
    }
   },
   "source": [
    "## Implicit ordering 隐含的顺序\n",
    "\n",
    "* Important: Implicit ordering of points and cells.点和单元隐含着的顺序：先X轴，然后Y轴，最后Z轴.\n",
    "\n",
    "  The $X$ co-ordinate increases first, $Y$ next and $Z$ last. \n"
   ]
  },
  {
   "cell_type": "markdown",
   "metadata": {},
   "source": [
    "## General structure\n",
    "\n",
    "```\n",
    "# vtk DataFile Version 2.0\n",
    "A long string describing the file (256 chars)\n",
    "ASCII | BINARY\n",
    "DATASET [type]\n",
    "...\n",
    "\n",
    "POINT_DATA n\n",
    "...\n",
    "\n",
    "CELL_DATA n\n",
    "...\n",
    "```\n",
    "\n",
    "* Point and cell data can be supplied together.\n",
    "* `n` is the number of points or cells.\n"
   ]
  },
  {
   "cell_type": "markdown",
   "metadata": {
    "slideshow": {
     "slide_type": "slide"
    }
   },
   "source": [
    "## Simple example\n",
    "\n",
    "```\n",
    "# vtk DataFile Version 2.0\n",
    "Structured points example.\n",
    "ASCII\n",
    "DATASET STRUCTURED_POINTS\n",
    "DIMENSIONS 2 2 1\n",
    "ORIGIN 0.0 0.0 0.0\n",
    "SPACING 1.0 1.0 1.0\n",
    "\n",
    "POINT_DATA 4\n",
    "SCALARS Temperature float\n",
    "LOOKUP_TABLE default\n",
    "100 200\n",
    "300 400\n",
    "\n",
    "VECTORS velocity float\n",
    "0.0 0.0 0.0\n",
    "1.0 0.0 0.0\n",
    "0.0 1.0 0.0\n",
    "1.0 1.0 0.0\n",
    "```\n"
   ]
  },
  {
   "cell_type": "markdown",
   "metadata": {
    "slideshow": {
     "slide_type": "slide"
    }
   },
   "source": [
    "## Notes\n",
    "\n",
    "* This is a legacy format\n",
    "* New format is in XML\n"
   ]
  },
  {
   "cell_type": "markdown",
   "metadata": {
    "slideshow": {
     "slide_type": "slide"
    }
   },
   "source": [
    "## Loading data with `mlab`\n",
    "\n",
    "This will open all supported files:\n"
   ]
  },
  {
   "cell_type": "code",
   "execution_count": null,
   "metadata": {},
   "outputs": [],
   "source": [
    "%gui qt4\n",
    "import numpy as np\n",
    "from mayavi import mlab"
   ]
  },
  {
   "cell_type": "code",
   "execution_count": 6,
   "metadata": {},
   "outputs": [
    {
     "data": {
      "text/plain": [
       "<mayavi.sources.vrml_importer.VRMLImporter at 0x15c16e61150>"
      ]
     },
     "execution_count": 6,
     "metadata": {},
     "output_type": "execute_result"
    }
   ],
   "source": [
    "mlab.pipeline.open('data/room_vis.wrl')"
   ]
  },
  {
   "cell_type": "code",
   "execution_count": 7,
   "metadata": {},
   "outputs": [
    {
     "data": {
      "text/plain": [
       "<mayavi.sources.vtk_xml_file_reader.VTKXMLFileReader at 0x15c16f37e60>"
      ]
     },
     "execution_count": 7,
     "metadata": {},
     "output_type": "execute_result"
    }
   ],
   "source": [
    "mlab.pipeline.open('data/fire_ug.vtu')"
   ]
  },
  {
   "cell_type": "markdown",
   "metadata": {
    "slideshow": {
     "slide_type": "slide"
    }
   },
   "source": [
    "## Outline\n",
    "\n",
    "- Introduction\n",
    "- VTK datasets\n",
    "- **Creating datasets from Python** $\\Longleftarrow$ 这部分很重要\n"
   ]
  },
  {
   "cell_type": "markdown",
   "metadata": {
    "slideshow": {
     "slide_type": "slide"
    }
   },
   "source": [
    "## Overview 概述\n",
    "\n",
    "* Create datasets with TVTK and NumPy 用TVTK和Numpy来创建数据集\n",
    "\n",
    "* Simple examples 简单的例子\n",
    "\n",
    "* Very handy when working with NumPy 和Numpy一起使用很方便\n",
    "\n",
    "* No need to create VTK data files! 不需要创建VTK数据文件\n",
    "\n",
    "* `PolyData, StructuredPoints,` `StructuredGrid` , `UnstructuredGrid`\n",
    "\n",
    "注：这里很重要，VTK中数据集包括这四类，所以所有目标数据最终都构建成这4类数据集实例.\n",
    "PolyData, StructuredPoints, StructuredGrid , UnstructuredGrid"
   ]
  },
  {
   "cell_type": "markdown",
   "metadata": {
    "slideshow": {
     "slide_type": "slide"
    }
   },
   "source": [
    "## Overview\n",
    "\n",
    "* Using `tvtk`  in the following\n",
    "\n",
    "* `tvtk`  uses VTK underneath. tvtk用的是VTK的低层\n",
    "\n",
    "* Much easier to use than raw VTK\n"
   ]
  },
  {
   "cell_type": "code",
   "execution_count": 2,
   "metadata": {},
   "outputs": [],
   "source": [
    "%gui qt4\n",
    "import numpy as np\n",
    "from mayavi import mlab\n",
    "from tvtk.api import tvtk\n",
    "from scipy import special"
   ]
  },
  {
   "cell_type": "markdown",
   "metadata": {
    "slideshow": {
     "slide_type": "slide"
    }
   },
   "source": [
    "## 1、二维结构化网格点 Structured Points: 2D \n"
   ]
  },
  {
   "cell_type": "code",
   "execution_count": 66,
   "metadata": {
    "slideshow": {
     "slide_type": "fragment"
    }
   },
   "outputs": [],
   "source": [
    "# The scalar values. 标量值\n",
    "x, y = np.mgrid[-10:10:51j, -10:10:51j] #平面上网格坐标，实际可以表明空间网格点。\n",
    "# Bessel function of order 0 0阶贝塞尔函数计算出一个平面网格上每个单元的一个值，这个值为空间点上的属性变量.\n",
    "z = 5.0*special.j0(np.sqrt(x**2 + y**2))  \n",
    "\n",
    "#上面是目标数据，下面构建显示用的数据集。这里的数据集类型为StructuredPoints\n",
    "# Can't specify explicit points, they are implicit. The volume specified using origin, spacing and dims.\n",
    "spoints = tvtk.StructuredPoints()\n",
    "spoints.origin=(-10, -10, 0)\n",
    "spoints.spacing=(0.4, 0.4, 1)\n",
    "spoints.dimensions=(51, 51, 1)\n",
    "\n",
    "# Transpose array data due to VTK's implicit ordering. ravel it so the number of components is 1.\n",
    "#因VTK的隐含的顺序，所以要转换数组数据，并展平它使分量为1.\n",
    "spoints.point_data.scalars = z.T.ravel()\n",
    "spoints.point_data.scalars.name = 'waves'"
   ]
  },
  {
   "cell_type": "code",
   "execution_count": 69,
   "metadata": {},
   "outputs": [],
   "source": [
    "# Visualizing it！\n",
    "#mlab.clf()\n",
    "\n",
    "# Add the dataset to the pipeline 往管线中添加数据集\n",
    "src = mlab.pipeline.add_dataset(spoints)\n",
    "warp = mlab.pipeline.warp_scalar(src)\n",
    "surf = mlab.pipeline.surface(warp,representation='wireframe' )\n"
   ]
  },
  {
   "cell_type": "markdown",
   "metadata": {},
   "source": [
    "<center>\n",
    "<img src=\"MEDIA/m2/datasets/structured_points2d.png\" width=\"30%\" height=\"24%\"/>\n",
    "</center>\n"
   ]
  },
  {
   "cell_type": "markdown",
   "metadata": {
    "slideshow": {
     "slide_type": "slide"
    }
   },
   "source": [
    "## 2、三维结构化网格点 Structured Points: 3D \n"
   ]
  },
  {
   "cell_type": "code",
   "execution_count": 10,
   "metadata": {},
   "outputs": [],
   "source": [
    "# 原始空间坐标值和变量值\n",
    "x, y, z = np.mgrid[-5:5:128j,-5:5:128j,-5:5:128j]\n",
    "scalars = np.sin(x*y*z)/(x*y*z)\n",
    "\n",
    "#构建数据集\n",
    "spoints = tvtk.StructuredPoints(origin=(-5.,-5,-5),spacing=(10./127,10./127,10./127),dimensions=(128,128,128))\n",
    "\n",
    "# The copy makes the data contiguous and the transpose，makes it suitable for display via tvtk.\n",
    "s = scalars.transpose().copy()\n",
    "spoints.point_data.scalars = s.ravel()\n",
    "spoints.point_data.scalars.name = 'scalars'"
   ]
  },
  {
   "cell_type": "code",
   "execution_count": 11,
   "metadata": {},
   "outputs": [],
   "source": [
    "# Visualizing it！\n",
    "mlab.clf()\n",
    "\n",
    "# Add the dataset to the pipeline\n",
    "src = mlab.pipeline.add_dataset(spoints)\n",
    "contour = mlab.pipeline.iso_surface(src)\n",
    "\n",
    "# 添加切面.\n",
    "cut = mlab.pipeline.scalar_cut_plane(src)"
   ]
  },
  {
   "cell_type": "markdown",
   "metadata": {},
   "source": [
    "<center>\n",
    "<img src=\"MEDIA/m2/datasets/structured_points3d.png\" width=\"50%\" height=\"50%\"/>\n",
    "</center>\n"
   ]
  },
  {
   "cell_type": "markdown",
   "metadata": {
    "slideshow": {
     "slide_type": "slide"
    }
   },
   "source": [
    "## 3、结构化网格 Structured Grid\n"
   ]
  },
  {
   "cell_type": "code",
   "execution_count": null,
   "metadata": {},
   "outputs": [],
   "source": [
    "#构建极坐标系下的空间网格划分\n",
    "r, th = np.mgrid[1:10:25j, 0:2*np.pi:51j]\n",
    "\n",
    "#构建变量\n",
    "x, y = np.cos(th)*r, np.sin(th)*r\n",
    "scalar = x*x + y*y\n"
   ]
  },
  {
   "cell_type": "code",
   "execution_count": null,
   "metadata": {},
   "outputs": [],
   "source": [
    "pts = np.empty(x.shape + (3,))\n",
    "pts[...,0] = x\n",
    "pts[...,1] = y\n",
    "pts[...,2] = z\n",
    "pts = pts.transpose(2, 1, 0, 3).copy()\n",
    "pts.shape = pts.size//3, 3"
   ]
  },
  {
   "cell_type": "code",
   "execution_count": 39,
   "metadata": {
    "slideshow": {
     "slide_type": "fragment"
    }
   },
   "outputs": [
    {
     "ename": "TraitError",
     "evalue": "The 'dimensions' trait of a StructuredGrid instance must be an array of int64 values with shape (3,), but a value of array([51, 51], dtype=int64) <class 'numpy.ndarray'> was specified.",
     "output_type": "error",
     "traceback": [
      "\u001b[1;31m---------------------------------------------------------------------------\u001b[0m",
      "\u001b[1;31mTraitError\u001b[0m                                Traceback (most recent call last)",
      "\u001b[1;32m<ipython-input-39-b83bfb3c4147>\u001b[0m in \u001b[0;36m<module>\u001b[1;34m()\u001b[0m\n\u001b[0;32m      1\u001b[0m \u001b[1;31m#构建数据集\u001b[0m\u001b[1;33m\u001b[0m\u001b[1;33m\u001b[0m\u001b[0m\n\u001b[1;32m----> 2\u001b[1;33m \u001b[0msgrid\u001b[0m \u001b[1;33m=\u001b[0m \u001b[0mtvtk\u001b[0m\u001b[1;33m.\u001b[0m\u001b[0mStructuredGrid\u001b[0m\u001b[1;33m(\u001b[0m\u001b[0mdimensions\u001b[0m\u001b[1;33m=\u001b[0m\u001b[0mx\u001b[0m\u001b[1;33m.\u001b[0m\u001b[0mshape\u001b[0m\u001b[1;33m)\u001b[0m\u001b[1;33m\u001b[0m\u001b[0m\n\u001b[0m\u001b[0;32m      3\u001b[0m \u001b[0msgrid\u001b[0m\u001b[1;33m.\u001b[0m\u001b[0mpoints\u001b[0m \u001b[1;33m=\u001b[0m \u001b[0mpts\u001b[0m\u001b[1;33m\u001b[0m\u001b[0m\n\u001b[0;32m      4\u001b[0m \u001b[0msgrid\u001b[0m\u001b[1;33m.\u001b[0m\u001b[0mpoint_data\u001b[0m\u001b[1;33m.\u001b[0m\u001b[0mscalars\u001b[0m \u001b[1;33m=\u001b[0m \u001b[0mnp\u001b[0m\u001b[1;33m.\u001b[0m\u001b[0mravel\u001b[0m\u001b[1;33m(\u001b[0m\u001b[0mscalar\u001b[0m\u001b[1;33m.\u001b[0m\u001b[0mT\u001b[0m\u001b[1;33m.\u001b[0m\u001b[0mcopy\u001b[0m\u001b[1;33m(\u001b[0m\u001b[1;33m)\u001b[0m\u001b[1;33m,\u001b[0m\u001b[0mname\u001b[0m\u001b[1;33m=\u001b[0m\u001b[1;34m'scalars'\u001b[0m\u001b[1;33m)\u001b[0m\u001b[1;33m\u001b[0m\u001b[0m\n\u001b[0;32m      5\u001b[0m \u001b[0msgrid\u001b[0m\u001b[1;33m.\u001b[0m\u001b[0mpoint_data\u001b[0m\u001b[1;33m.\u001b[0m\u001b[0mscalars\u001b[0m\u001b[1;33m.\u001b[0m\u001b[0mname\u001b[0m \u001b[1;33m=\u001b[0m \u001b[1;34m'scalars'\u001b[0m\u001b[1;33m\u001b[0m\u001b[0m\n",
      "\u001b[1;32mc:\\program files\\python36\\lib\\site-packages\\tvtk\\tvtk_classes.zip\\tvtk_classes\\structured_grid.py\u001b[0m in \u001b[0;36m__init__\u001b[1;34m(self, obj, update, **traits)\u001b[0m\n\u001b[0;32m     61\u001b[0m     \"\"\"\n\u001b[0;32m     62\u001b[0m     \u001b[1;32mdef\u001b[0m \u001b[0m__init__\u001b[0m\u001b[1;33m(\u001b[0m\u001b[0mself\u001b[0m\u001b[1;33m,\u001b[0m \u001b[0mobj\u001b[0m\u001b[1;33m=\u001b[0m\u001b[1;32mNone\u001b[0m\u001b[1;33m,\u001b[0m \u001b[0mupdate\u001b[0m\u001b[1;33m=\u001b[0m\u001b[1;32mTrue\u001b[0m\u001b[1;33m,\u001b[0m \u001b[1;33m**\u001b[0m\u001b[0mtraits\u001b[0m\u001b[1;33m)\u001b[0m\u001b[1;33m:\u001b[0m\u001b[1;33m\u001b[0m\u001b[0m\n\u001b[1;32m---> 63\u001b[1;33m         \u001b[0mtvtk_base\u001b[0m\u001b[1;33m.\u001b[0m\u001b[0mTVTKBase\u001b[0m\u001b[1;33m.\u001b[0m\u001b[0m__init__\u001b[0m\u001b[1;33m(\u001b[0m\u001b[0mself\u001b[0m\u001b[1;33m,\u001b[0m \u001b[0mvtk\u001b[0m\u001b[1;33m.\u001b[0m\u001b[0mvtkStructuredGrid\u001b[0m\u001b[1;33m,\u001b[0m \u001b[0mobj\u001b[0m\u001b[1;33m,\u001b[0m \u001b[0mupdate\u001b[0m\u001b[1;33m,\u001b[0m \u001b[1;33m**\u001b[0m\u001b[0mtraits\u001b[0m\u001b[1;33m)\u001b[0m\u001b[1;33m\u001b[0m\u001b[0m\n\u001b[0m\u001b[0;32m     64\u001b[0m \u001b[1;33m\u001b[0m\u001b[0m\n\u001b[0;32m     65\u001b[0m     dimensions = traits.Array(enter_set=True, auto_set=False, shape=(3,), dtype=\"int64\", value=(0, 0, 0), cols=3, help=\\\n",
      "\u001b[1;32mc:\\program files\\python36\\lib\\site-packages\\tvtk\\tvtk_base.py\u001b[0m in \u001b[0;36m__init__\u001b[1;34m(self, klass, obj, update, **traits)\u001b[0m\n\u001b[0;32m    334\u001b[0m         \u001b[1;31m# anyway.\u001b[0m\u001b[1;33m\u001b[0m\u001b[1;33m\u001b[0m\u001b[0m\n\u001b[0;32m    335\u001b[0m         \u001b[0mself\u001b[0m\u001b[1;33m.\u001b[0m\u001b[0m_in_set\u001b[0m \u001b[1;33m=\u001b[0m \u001b[1;36m1\u001b[0m\u001b[1;33m\u001b[0m\u001b[0m\n\u001b[1;32m--> 336\u001b[1;33m         \u001b[0msuper\u001b[0m\u001b[1;33m(\u001b[0m\u001b[0mTVTKBase\u001b[0m\u001b[1;33m,\u001b[0m \u001b[0mself\u001b[0m\u001b[1;33m)\u001b[0m\u001b[1;33m.\u001b[0m\u001b[0m__init__\u001b[0m\u001b[1;33m(\u001b[0m\u001b[1;33m**\u001b[0m\u001b[0mtraits\u001b[0m\u001b[1;33m)\u001b[0m\u001b[1;33m\u001b[0m\u001b[0m\n\u001b[0m\u001b[0;32m    337\u001b[0m         \u001b[0mself\u001b[0m\u001b[1;33m.\u001b[0m\u001b[0m_in_set\u001b[0m \u001b[1;33m=\u001b[0m \u001b[1;36m0\u001b[0m\u001b[1;33m\u001b[0m\u001b[0m\n\u001b[0;32m    338\u001b[0m \u001b[1;33m\u001b[0m\u001b[0m\n",
      "\u001b[1;32mc:\\program files\\python36\\lib\\site-packages\\traits\\trait_numeric.py\u001b[0m in \u001b[0;36mvalidate\u001b[1;34m(self, object, name, value)\u001b[0m\n\u001b[0;32m    176\u001b[0m             \u001b[1;32mpass\u001b[0m\u001b[1;33m\u001b[0m\u001b[0m\n\u001b[0;32m    177\u001b[0m \u001b[1;33m\u001b[0m\u001b[0m\n\u001b[1;32m--> 178\u001b[1;33m         \u001b[0mself\u001b[0m\u001b[1;33m.\u001b[0m\u001b[0merror\u001b[0m\u001b[1;33m(\u001b[0m \u001b[0mobject\u001b[0m\u001b[1;33m,\u001b[0m \u001b[0mname\u001b[0m\u001b[1;33m,\u001b[0m \u001b[0mvalue\u001b[0m \u001b[1;33m)\u001b[0m\u001b[1;33m\u001b[0m\u001b[0m\n\u001b[0m\u001b[0;32m    179\u001b[0m \u001b[1;33m\u001b[0m\u001b[0m\n\u001b[0;32m    180\u001b[0m     \u001b[1;32mdef\u001b[0m \u001b[0minfo\u001b[0m \u001b[1;33m(\u001b[0m \u001b[0mself\u001b[0m \u001b[1;33m)\u001b[0m\u001b[1;33m:\u001b[0m\u001b[1;33m\u001b[0m\u001b[0m\n",
      "\u001b[1;32mc:\\program files\\python36\\lib\\site-packages\\traits\\trait_handlers.py\u001b[0m in \u001b[0;36merror\u001b[1;34m(self, object, name, value)\u001b[0m\n\u001b[0;32m    170\u001b[0m         \"\"\"\n\u001b[0;32m    171\u001b[0m         raise TraitError( object, name, self.full_info( object, name, value ),\n\u001b[1;32m--> 172\u001b[1;33m                           value )\n\u001b[0m\u001b[0;32m    173\u001b[0m \u001b[1;33m\u001b[0m\u001b[0m\n\u001b[0;32m    174\u001b[0m     \u001b[1;32mdef\u001b[0m \u001b[0mfull_info\u001b[0m \u001b[1;33m(\u001b[0m \u001b[0mself\u001b[0m\u001b[1;33m,\u001b[0m \u001b[0mobject\u001b[0m\u001b[1;33m,\u001b[0m \u001b[0mname\u001b[0m\u001b[1;33m,\u001b[0m \u001b[0mvalue\u001b[0m \u001b[1;33m)\u001b[0m\u001b[1;33m:\u001b[0m\u001b[1;33m\u001b[0m\u001b[0m\n",
      "\u001b[1;31mTraitError\u001b[0m: The 'dimensions' trait of a StructuredGrid instance must be an array of int64 values with shape (3,), but a value of array([51, 51], dtype=int64) <class 'numpy.ndarray'> was specified."
     ]
    }
   ],
   "source": [
    "#构建数据集\n",
    "sgrid = tvtk.StructuredGrid(dimensions=x.shape)\n",
    "sgrid.points = pts\n",
    "sgrid.point_data.scalars = np.ravel(scalar.T.copy(),name='scalars')\n",
    "sgrid.point_data.scalars.name = 'scalars'"
   ]
  },
  {
   "cell_type": "code",
   "execution_count": null,
   "metadata": {},
   "outputs": [],
   "source": [
    "#Visualizing it！\n",
    "mlab.clf()\n",
    "\n",
    "# Add the dataset to the pipeline\n",
    "src = mlab.pipeline.add_dataset(sgrid)\n",
    "plane = mlab.pipeline.grid_plane(src)\n",
    "plane.grid_plane.axis = 'z'\n",
    "\n",
    "#c_plane = mlab.pipeline.contour_grid_plane(src)\n",
    "#c_plane.enable_contours = True\n",
    "\n",
    "#iso = mlab.pipeline.iso_surface(src)"
   ]
  },
  {
   "cell_type": "markdown",
   "metadata": {},
   "source": [
    "<center>\n",
    "<img src=\"MEDIA/m2/datasets/structured_grid.png\" width=\"50%\" height=\"50%\"/>\n",
    "</center>\n"
   ]
  },
  {
   "cell_type": "markdown",
   "metadata": {
    "slideshow": {
     "slide_type": "slide"
    }
   },
   "source": [
    "## 4、连线数据 PolyData\n"
   ]
  },
  {
   "cell_type": "code",
   "execution_count": 34,
   "metadata": {},
   "outputs": [],
   "source": [
    "# The points in 3D. 三维空间中所有散点，这是一个一维数组，每个元素为一个三维坐标.这里都是空间位置，不涉及到属性变量\n",
    "points = np.array([[0.,0,0], [1,0,0], [0,1,0], [0,0,1]])\n",
    "\n",
    "# Connectivity via indices to the points.点与点之间的连接性靠的指明散点索引号来实现的.\n",
    "triangles = np.array([[0,1,3], [0,3,2], [1,2,3]])\n",
    "\n",
    "# Creating the data object. 网格由空间散点和指定连线构成，这里指明了点的拓扑结构。\n",
    "mesh = tvtk.PolyData()\n",
    "mesh.points = points # the points\n",
    "mesh.polys = triangles # triangles for connectivity.画三角面\n",
    "\n",
    "\n",
    "# Now create some point data.这些点上的标量属性变量，比如这里的温度. 这里指明了点上的数据属性.\n",
    "temperature = np.array([10., 20. ,30., 40.], 'f')\n",
    "mesh.point_data.scalars = temperature\n",
    "mesh.point_data.scalars.name = 'temperature'\n",
    "\n",
    "# Some vectors.这些点上的矢量属性变量，这里指明了点上的数据属性.\n",
    "velocity = np.array([[-1.,-1.,-1], [1.,0,0], [0.,1,0], [0.,0,1]])\n",
    "mesh.point_data.vectors = velocity\n",
    "mesh.point_data.vectors.name = 'velocity'"
   ]
  },
  {
   "cell_type": "code",
   "execution_count": 38,
   "metadata": {},
   "outputs": [],
   "source": [
    "#Visualizing it！\n",
    "mlab.clf()\n",
    "#上面实际是构建了一个数据集，包括空间散点，点的拓扑结构，点上的属性数据.\n",
    "src = mlab.pipeline.add_dataset(mesh)  #将数据集添加到管线中\n",
    "surf = mlab.pipeline.surface(src) #在管线中画面\n",
    "vec = mlab.pipeline.vectors(src) #在管线中画矢量."
   ]
  },
  {
   "cell_type": "markdown",
   "metadata": {},
   "source": [
    "<center>\n",
    "<img src=\"MEDIA/m2/datasets/polydata.png\" width=\"50%\" height=\"50%\"/>\n",
    "</center>\n"
   ]
  },
  {
   "cell_type": "markdown",
   "metadata": {
    "slideshow": {
     "slide_type": "slide"
    }
   },
   "source": [
    "## 5、非结构化网格 Unstructured Grid\n"
   ]
  },
  {
   "cell_type": "code",
   "execution_count": 12,
   "metadata": {},
   "outputs": [],
   "source": [
    "points = np.array([[0.,0.,0], [1.,1,0], [0.,1,0], [1.,0,0],[2.,2,3]])\n",
    "ug = tvtk.UnstructuredGrid(points=points)\n",
    "\n",
    "# This sets up the cells.\n",
    "tet_type = tvtk.Tetra().cell_type # VTK_TETRA == 10\n",
    "tets = np.array([[ 1, 2, 3,4]])\n",
    "ug.set_cells(tet_type, tets)\n",
    "\n",
    "# Attribute data.\n",
    "temperature = np.array([10, 20 ,20, 30], 'f')\n",
    "ug.point_data.scalars = temperature\n",
    "ug.point_data.scalars.name = 'temperature'\n",
    "\n",
    "# Some vectors.\n",
    "velocity = np.array([[0.,0,0], [1,0,0], [0,1,0], [0,0,1]])\n",
    "ug.point_data.vectors = velocity\n",
    "ug.point_data.vectors.name = 'velocity'"
   ]
  },
  {
   "cell_type": "code",
   "execution_count": 13,
   "metadata": {},
   "outputs": [],
   "source": [
    "#Visualizing it！\n",
    "mlab.clf()\n",
    "\n",
    "# Add the dataset to the pipeline\n",
    "src = mlab.pipeline.add_dataset(ug)\n",
    "surf = mlab.pipeline.surface(src,opacity=0.1,representation='wireframe')\n",
    "vec = mlab.pipeline.vectors(src)"
   ]
  },
  {
   "cell_type": "markdown",
   "metadata": {},
   "source": [
    "<center>\n",
    "<img src=\"MEDIA/m2/datasets/ug.png\" width=\"50%\" height=\"50%\"/>\n",
    "</center>\n"
   ]
  },
  {
   "cell_type": "markdown",
   "metadata": {
    "slideshow": {
     "slide_type": "slide"
    }
   },
   "source": [
    "## Saving data to file\n",
    "\n",
    "* Use `tvtk.api.write_data`\n",
    "* Automatically picks a writer\n"
   ]
  },
  {
   "cell_type": "code",
   "execution_count": null,
   "metadata": {},
   "outputs": [],
   "source": [
    "from tvtk.api import write_data\n",
    "write_data(ug, '/tmp/ug.vtu')\n",
    "write_data(ug, '/tmp/ug.vtk')"
   ]
  }
 ],
 "metadata": {
  "celltoolbar": "Slideshow",
  "kernelspec": {
   "display_name": "Python 3",
   "language": "python",
   "name": "python3"
  },
  "language_info": {
   "codemirror_mode": {
    "name": "ipython",
    "version": 3
   },
   "file_extension": ".py",
   "mimetype": "text/x-python",
   "name": "python",
   "nbconvert_exporter": "python",
   "pygments_lexer": "ipython3",
   "version": "3.6.4"
  },
  "livereveal": {
   "controls": true,
   "help": true,
   "scroll": true,
   "slideNumber": true,
   "transition": "none"
  }
 },
 "nbformat": 4,
 "nbformat_minor": 2
}
