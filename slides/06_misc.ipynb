{
 "cells": [
  {
   "cell_type": "markdown",
   "metadata": {
    "slideshow": {
     "slide_type": "slide"
    }
   },
   "source": [
    "# Other useful tools\n",
    "\n",
    "**Prabhu Ramachandran**\n",
    "\n",
    "**Department of Aerospace Engineering, IIT Bombay**\n",
    "<br/>\n",
    "\n",
    "**SciPy 2018**\n",
    "\n",
    "**Austin, Texas, July 2018**\n"
   ]
  },
  {
   "cell_type": "markdown",
   "metadata": {
    "slideshow": {
     "slide_type": "slide"
    }
   },
   "source": [
    "## Outline\n",
    "\n",
    "- The `mayavi2` application\n",
    "    - Features\n",
    "    - Command line arguments\n",
    "    - `mlab` integration\n",
    "\n",
    "- Jupyter notebooks\n",
    "\n",
    "- Offscreen support\n"
   ]
  },
  {
   "cell_type": "markdown",
   "metadata": {
    "slideshow": {
     "slide_type": "slide"
    }
   },
   "source": [
    "## Introduction to the application\n",
    "\n",
    "* Visualization without scripting\n",
    "\n",
    "* Especially useful with data files\n",
    "\n",
    "* Can be scripted\n",
    "\n",
    "* Supports `mlab`\n"
   ]
  },
  {
   "cell_type": "markdown",
   "metadata": {
    "slideshow": {
     "slide_type": "slide"
    }
   },
   "source": [
    "<img height=\"100%\" src=\"MEDIA/m2/m2_app3_3.png\"/>\n"
   ]
  },
  {
   "cell_type": "markdown",
   "metadata": {
    "slideshow": {
     "slide_type": "slide"
    }
   },
   "source": [
    "## Features\n",
    "\n",
    "* Complete UI\n",
    "* Powerful command line options\n",
    "* Embedded Python\n",
    "* Fully scriptable\n",
    "* Reads different file formats\n",
    "* Drag-drop onto shell\n",
    "* Script recording\n",
    "* Extensible\n",
    "* Plug-in design using Envisage\n"
   ]
  },
  {
   "cell_type": "markdown",
   "metadata": {
    "slideshow": {
     "slide_type": "slide"
    }
   },
   "source": [
    "## Command line arguments\n",
    "### Overview\n"
   ]
  },
  {
   "cell_type": "code",
   "execution_count": 1,
   "metadata": {},
   "outputs": [
    {
     "name": "stdout",
     "output_type": "stream",
     "text": [
      "Usage:\n",
      "\n",
      "mayavi2 [options] ... [arg1] [arg2] ...\n",
      "\n",
      "Where arg1, arg2 ... are optional file names that correspond to saved\n",
      "Mayavi2 visualizations (file.mv2) or Mayavi2 scripts (file.py) or any\n",
      "data files supported by Mayavi.  Valid options are one or more of the\n",
      "following:\n",
      "\n",
      "-d datafile.ext\n",
      "--data datafile.ext\n",
      "\n",
      "     datafile.ext can be any of the supported data file formats.  This\n",
      "     includes VTK file formats (*.vtk, *.xml, *.vt[i,p,r,s,u],\n",
      "     *.pvt[i,p,r,s,u]), VRML2 (*.wrl), 3D Studio (*.3ds), PLOT3D\n",
      "     (*.xyz), STL, BYU, RAW, PLY,  PDB,  SLC,  FACET,  OBJ,  AVSUCD\n",
      "     (*.inp),  GAMBIT (*.neu),  Exodus  (*.exii),  PNG,  JPEG,  BMP,\n",
      "     PNM, DCM, DEM, MHA, MHD, MINC, XIMG, TIFF, and various others that\n",
      "     are supported.  datafile.ext can also be a source object not\n",
      "     associated with a file, for example ParametricSurface or PointLoad\n",
      "     will load the corresponding data sources into Mayavi.\n",
      "\n",
      "--filter filter-name\n",
      "-f filter-name\n",
      "\n",
      "     The passed filter name is loaded with respect to the current\n",
      "     source/filter object.  The filter name must be a valid one if not\n",
      "     you will get an error message.\n",
      "\n",
      "     If the filter is specified as 'package.sub.filter.SomeFilter'\n",
      "     then the filter (`SomeFilter`) is imported from\n",
      "     'package.sub.filter'.  Standard modules provided with mayavi2 do\n",
      "     not need the full path specification.\n",
      "\n",
      "     Example::\n",
      "         mayavi2 -d data.vtk -f ExtractVectorNorm -f m2_user_filters.TestFilter\n",
      "\n",
      "     In this example 'ExtractVectorNorm' is a standard filter and\n",
      "     'm2_user_filters.TestFilter' is some user defined filter.\n",
      "\n",
      "-m module-name\n",
      "--module module-name\n",
      "\n",
      "     The passed module name is loaded in the current ModuleManager.\n",
      "     The module name must be a valid one if not you will get an error\n",
      "     message.\n",
      "\n",
      "     If a module is specified as 'package.sub.module.SomeModule' then\n",
      "     the module (`SomeModule`) is imported from 'package.sub.module'.\n",
      "     Standard modules provided with mayavi2 do not need the full path\n",
      "     specification.\n",
      "\n",
      "     Example::\n",
      "         mayavi2 -d data.vtk -m Outline -m m2_user_modules.TestModule\n",
      "\n",
      "     In this example 'Outline' is a standard module and\n",
      "     'm2_user_modules.TestModule' is some user defined module.\n",
      "\n",
      "-M\n",
      "--module-mgr\n",
      "\n",
      "     Starts up a new module manager on the Mayavi pipeline.\n",
      "\n",
      "-n\n",
      "--new-scene\n",
      "\n",
      "     Creates a new TVTK scene.  Any options passed after this will\n",
      "     apply to this newly created scene.\n",
      "\n",
      "-o\n",
      "--offscreen\n",
      "\n",
      "     Run Mayavi in offscreen mode without any graphical user interface.\n",
      "     This is most useful for scripts that need to render images\n",
      "     offscreen.\n",
      "\n",
      "-x script-file\n",
      "--exec script-file\n",
      "\n",
      "     This executes the given script in a namespace where we guarantee\n",
      "     that the name 'mayavi' is Mayavi's script instance -- just like\n",
      "     in the embedded Python interpreter.\n",
      "\n",
      "     **WARNING**: Note that this uses `execfile`, so please note that\n",
      "                  this can be dangerous if the script does something\n",
      "                  nasty!\n",
      "\n",
      "-s python-expression\n",
      "--set python-expression\n",
      "\n",
      "     Execute the expression on the last created object.  For example,\n",
      "     lets say the previous object was a module.  If you want to set the\n",
      "     color of that object and save the scene you may do::\n",
      "\n",
      "      $ mayavi2 [...] -m Outline -s\"actor.property.color = (1,0,0)\"         -s \"scene.save('test.png', size=(800, 800))\"\n",
      "\n",
      "     You should use quotes for the expression.\n",
      "\n",
      "     **WARNING**: Note that this uses `exec`, so please note that\n",
      "                  this can be dangerous!\n",
      "\n",
      "-z saved-visualization-file\n",
      "--viz saved-visualization-file\n",
      "--visualization saved-visualization-file\n",
      "\n",
      "     Loads a previously saved Mayavi2 visualization file passed as the\n",
      "     argument.\n",
      "\n",
      "-t\n",
      "--test\n",
      "\n",
      "     Runs the mayavi2 test suite and exits.  If run as such, this runs\n",
      "     both the TVTK and Mayavi2 unittests.  If any additional arguments\n",
      "     are passed they are passed along to the test runner.  So this may\n",
      "     be used to run other tests as well.  For example::\n",
      "\n",
      "        mayavi2 -t apptools.persistence\n",
      "\n",
      "     This will run just the tests inside the apptools.persistence\n",
      "     package.  You can also specify a directory with test files to run\n",
      "     with this, for example::\n",
      "\n",
      "        mayavi2 -t relative_path_to/integrationtests/mayavi\n",
      "\n",
      "     will run the integration tests from the mayavi sources.\n",
      "\n",
      "-v\n",
      "--verbose\n",
      "\n",
      "     Prints verbose logs on the console.\n",
      "\n",
      "-V\n",
      "--version\n",
      "\n",
      "     Prints the Mayavi version.\n",
      "\n",
      "-h\n",
      "--help\n",
      "\n",
      "     Prints this help message.\n",
      "\n",
      "Examples::\n",
      "\n",
      "     mayavi2 test.mv2 (or mayavi2 -z test.mv2)\n",
      "\n",
      "     mayavi2 test.py (or mayavi2 -x test.py)\n",
      "\n",
      "     mayavi2 test.mv2 other.mv2 (or mayavi2 -z test.mv2 -z other.mv2)\n",
      "\n",
      "     mayavi2 -d test.vtk -m Axes -m GridPlane \\\n",
      "     -f Threshold -m IsoSurface \\\n",
      "     -n -d heart.vtk -m Outline -m ContourGridPlane\n",
      "\n"
     ]
    }
   ],
   "source": [
    "!mayavi2 -h"
   ]
  },
  {
   "cell_type": "markdown",
   "metadata": {},
   "source": [
    "* `-d datafile.ext` : Load data file\n",
    "\n",
    "* `-f FilterName` : Load filter\n",
    "\n",
    "* `-m ModuleName` : Load module\n",
    "\n",
    "* `-s python-string` : Evaluate Python expression\n",
    "\n",
    "* `-x file.py` : Execute Python code\n"
   ]
  },
  {
   "cell_type": "markdown",
   "metadata": {
    "slideshow": {
     "slide_type": "slide"
    }
   },
   "source": [
    "## Advanced options\n",
    "\n",
    "* `-n` : new scene\n",
    "\n",
    "* `-M` : new module manager\n",
    "\n",
    "* `-o` : offscreen mode\n",
    "\n",
    "* `-z filename` : load saved visualization\n"
   ]
  },
  {
   "cell_type": "markdown",
   "metadata": {
    "slideshow": {
     "slide_type": "slide"
    }
   },
   "source": [
    "## Simple example\n"
   ]
  },
  {
   "cell_type": "code",
   "execution_count": 2,
   "metadata": {},
   "outputs": [
    {
     "name": "stdout",
     "output_type": "stream",
     "text": [
      "E:\\GitHubDocument\\mayavi-tutorial\\slides\\data\n"
     ]
    }
   ],
   "source": [
    "%cd data"
   ]
  },
  {
   "cell_type": "code",
   "execution_count": null,
   "metadata": {},
   "outputs": [],
   "source": [
    "!mayavi2 -d room_vis.wrl -d fire_ug.vtu -m Outline  -m ScalarCutPlane"
   ]
  },
  {
   "cell_type": "markdown",
   "metadata": {
    "slideshow": {
     "slide_type": "slide"
    }
   },
   "source": [
    "## Scripting from the command line\n",
    "\n",
    "* `-s python-code`  is very powerful\n",
    "\n",
    "* Takes Python expressions\n",
    "\n",
    "* Applies to the last module/filter\n",
    "\n",
    "* Can be called multiple times\n"
   ]
  },
  {
   "cell_type": "markdown",
   "metadata": {
    "slideshow": {
     "slide_type": "slide"
    }
   },
   "source": [
    "## An example\n"
   ]
  },
  {
   "cell_type": "code",
   "execution_count": null,
   "metadata": {},
   "outputs": [],
   "source": [
    "!mayavi2 -d room_vis.wrl -d fire_ug.vtu \\\n",
    " -m Outline  -m ScalarCutPlane \\\n",
    "-s \"enable_contours = True\" \\\n",
    "-s \"implicit_plane.widget.normal_to_z_axis=1\""
   ]
  },
  {
   "cell_type": "markdown",
   "metadata": {
    "slideshow": {
     "slide_type": "slide"
    }
   },
   "source": [
    "## `mlab` integration\n"
   ]
  },
  {
   "cell_type": "markdown",
   "metadata": {
    "slideshow": {
     "slide_type": "slide"
    }
   },
   "source": [
    "## Using `mlab`\n",
    "\n",
    "* Can import and use mlab\n",
    "\n",
    "* Opening data: `mlab.pipeline.open`\n",
    "* Add dataset: `mlab.pipeline.add_dataset`\n",
    "* Use `lower_case_with_underscores`\n",
    "* So `ScalarCutPlane`  $\\rightarrow$ `mlab.pipeline.scalar_cut_plane`\n"
   ]
  },
  {
   "cell_type": "markdown",
   "metadata": {
    "slideshow": {
     "slide_type": "slide"
    }
   },
   "source": [
    "## Outline\n",
    "\n",
    "- The `mayavi2` application\n",
    "    - Command line arguments\n",
    "    - UI features\n",
    "    - `mlab` integration\n",
    "\n",
    "- **Jupyter notebooks** $\\Longleftarrow$\n",
    "\n",
    "- Offscreen support\n"
   ]
  },
  {
   "cell_type": "markdown",
   "metadata": {
    "slideshow": {
     "slide_type": "slide"
    }
   },
   "source": [
    "## Inline IPython support\n",
    "Optional installation:\n"
   ]
  },
  {
   "cell_type": "code",
   "execution_count": null,
   "metadata": {},
   "outputs": [],
   "source": [
    "$ jupyter nbextension install --py mayavi --user"
   ]
  },
  {
   "cell_type": "markdown",
   "metadata": {
    "slideshow": {
     "slide_type": "slide"
    }
   },
   "source": [
    "Usage:\n"
   ]
  },
  {
   "cell_type": "code",
   "execution_count": null,
   "metadata": {},
   "outputs": [],
   "source": [
    "from mayavi import mlab\n",
    "mlab.init_notebook()"
   ]
  },
  {
   "cell_type": "code",
   "execution_count": null,
   "metadata": {},
   "outputs": [],
   "source": [
    "s = mlab.test_plot3d()\n",
    "s"
   ]
  },
  {
   "cell_type": "markdown",
   "metadata": {
    "slideshow": {
     "slide_type": "slide"
    }
   },
   "source": [
    "## Known issues\n",
    "\n",
    "- Works fine for small data\n",
    "- Does not support slicing and widget interaction\n",
    "- Transparency may not work\n"
   ]
  },
  {
   "cell_type": "markdown",
   "metadata": {
    "slideshow": {
     "slide_type": "slide"
    }
   },
   "source": [
    "## Outline\n",
    "\n",
    "- The `mayavi2` application\n",
    "    - Command line arguments\n",
    "    - UI features\n",
    "    - `mlab` integration\n",
    "\n",
    "- Jupyter notebooks\n",
    "\n",
    "- **Offscreen support** $\\Longleftarrow$\n"
   ]
  },
  {
   "cell_type": "markdown",
   "metadata": {
    "slideshow": {
     "slide_type": "slide"
    }
   },
   "source": [
    "## Offscreen rendering\n",
    "\n",
    "* Depends on hardware, OS, build\n",
    "\n",
    "* Works best on Windows!\n",
    "\n",
    "* Basics are easy\n"
   ]
  },
  {
   "cell_type": "code",
   "execution_count": null,
   "metadata": {},
   "outputs": [],
   "source": [
    "from mayavi import mlab\n",
    "mlab.options.offscreen = True"
   ]
  },
  {
   "cell_type": "code",
   "execution_count": null,
   "metadata": {},
   "outputs": [],
   "source": [
    "mlab.test_plot3d()\n",
    "mlab.savefig('/tmp/test.png')"
   ]
  },
  {
   "cell_type": "markdown",
   "metadata": {
    "slideshow": {
     "slide_type": "slide"
    }
   },
   "source": [
    "## What next?\n",
    "\n",
    "- Learn more about the different sources, filters, and modules\n"
   ]
  }
 ],
 "metadata": {
  "celltoolbar": "Slideshow",
  "kernelspec": {
   "display_name": "Python 3",
   "language": "python",
   "name": "python3"
  },
  "language_info": {
   "codemirror_mode": {
    "name": "ipython",
    "version": 3
   },
   "file_extension": ".py",
   "mimetype": "text/x-python",
   "name": "python",
   "nbconvert_exporter": "python",
   "pygments_lexer": "ipython3",
   "version": "3.6.4"
  },
  "livereveal": {
   "controls": true,
   "help": true,
   "scroll": true,
   "slideNumber": true,
   "transition": "none"
  }
 },
 "nbformat": 4,
 "nbformat_minor": 2
}
