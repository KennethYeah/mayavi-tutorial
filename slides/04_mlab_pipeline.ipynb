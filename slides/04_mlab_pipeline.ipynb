{
 "cells": [
  {
   "cell_type": "markdown",
   "metadata": {
    "slideshow": {
     "slide_type": "slide"
    }
   },
   "source": [
    "# Using `mayavi.mlab`: going deeper\n",
    "\n",
    "**Prabhu Ramachandran**\n",
    "\n",
    "**Department of Aerospace Engineering, IIT Bombay**\n",
    "\n",
    "<br/>\n",
    "\n",
    "**SciPy 2018**\n",
    "\n",
    "**Austin, Texas, July 2018**\n"
   ]
  },
  {
   "cell_type": "markdown",
   "metadata": {
    "slideshow": {
     "slide_type": "slide"
    }
   },
   "source": [
    "## Outline\n",
    "\n",
    "- Getting started with `mlab`\n",
    "- Using `mlab`\n",
    "   - The basics\n",
    "   - Animation\n",
    "- **Going deeper**  $\\Longleftarrow$\n",
    "   - The pipeline\n",
    "   - Data sources\n"
   ]
  },
  {
   "cell_type": "code",
   "execution_count": 1,
   "metadata": {
    "slideshow": {
     "slide_type": "slide"
    }
   },
   "outputs": [],
   "source": [
    "%gui qt4"
   ]
  },
  {
   "cell_type": "code",
   "execution_count": 2,
   "metadata": {},
   "outputs": [],
   "source": [
    "import numpy as np\n",
    "from mayavi import mlab"
   ]
  },
  {
   "cell_type": "markdown",
   "metadata": {
    "slideshow": {
     "slide_type": "slide"
    }
   },
   "source": [
    "## Recap 扼要重述\n"
   ]
  },
  {
   "cell_type": "code",
   "execution_count": 3,
   "metadata": {},
   "outputs": [
    {
     "data": {
      "text/plain": [
       "<mayavi.modules.vectors.Vectors at 0x29528874ca8>"
      ]
     },
     "execution_count": 3,
     "metadata": {},
     "output_type": "execute_result"
    }
   ],
   "source": [
    "def lorenz(x, y, z, s=10.,r=28.,  b=8./3.):\n",
    "    u = s*(y-x)\n",
    "    v = r*x -y - x*z\n",
    "    w = x*y - b*z\n",
    "    return u, v, w\n",
    "\n",
    "x, y, z = np.mgrid[-50:50:20j,-50:50:20j,-10:60:20j] \n",
    "u, v, w = lorenz(x, y, z) #即每个点上的矢量箭头\n",
    "\n",
    "mlab.quiver3d(x, y, z, u, v, w,scale_factor=0.01, mask_points=5)\n",
    "\n"
   ]
  },
  {
   "cell_type": "markdown",
   "metadata": {
    "slideshow": {
     "slide_type": "notes"
    }
   },
   "source": [
    "注：quiver为箭头的意思，这里应该画3D矢量箭头."
   ]
  },
  {
   "cell_type": "markdown",
   "metadata": {
    "slideshow": {
     "slide_type": "slide"
    }
   },
   "source": [
    "## Viewing the pipeline 显示管线\n",
    "\n",
    "* On scene toolbar, click on Mayavi icon\n",
    "\n",
    "* Or:\n"
   ]
  },
  {
   "cell_type": "code",
   "execution_count": 6,
   "metadata": {},
   "outputs": [
    {
     "data": {
      "text/plain": [
       "<traitsui.ui.UI at 0x19d07c5b728>"
      ]
     },
     "execution_count": 6,
     "metadata": {},
     "output_type": "execute_result"
    }
   ],
   "source": [
    "mlab.show_pipeline()"
   ]
  },
  {
   "cell_type": "markdown",
   "metadata": {
    "slideshow": {
     "slide_type": "slide"
    }
   },
   "source": [
    "## Looking inside\n",
    "\n",
    "<center>\n",
    "<img src=\"MEDIA/m2/mlab/mlab_pipeline1.png\"/>\n",
    "</center>\n"
   ]
  },
  {
   "cell_type": "markdown",
   "metadata": {
    "slideshow": {
     "slide_type": "slide"
    }
   },
   "source": [
    "## The pipeline\n",
    "\n",
    "<center>\n",
    "<img src=\"MEDIA/m2/quiver_pipeline.png\"/>\n",
    "</center>\n"
   ]
  },
  {
   "cell_type": "markdown",
   "metadata": {
    "slideshow": {
     "slide_type": "slide"
    }
   },
   "source": [
    "<center>\n",
    "<img src=\"MEDIA/m2/m2_big_picture.png\" width=\"70%\" height=\"70%\"/>\n",
    "</center>\n"
   ]
  },
  {
   "cell_type": "markdown",
   "metadata": {
    "slideshow": {
     "slide_type": "slide"
    }
   },
   "source": [
    "## Changing the pipeline 改变管线属性\n",
    "\n",
    "### On UI\n",
    "\n",
    "* Right click on node\n",
    "* Mayavi app: also in app menus\n",
    "* drag drop\n",
    "\n",
    "### Script  基于脚本来改变\n",
    "\n",
    "* Or use `mlab.pipeline`\n",
    "* Example: `mlab.pipeline.outline()`\n",
    "* We look at more useful methods later\n"
   ]
  },
  {
   "cell_type": "markdown",
   "metadata": {
    "slideshow": {
     "slide_type": "slide"
    }
   },
   "source": [
    "## Another example pipeline 管线的其他一些例程"
   ]
  },
  {
   "cell_type": "code",
   "execution_count": 4,
   "metadata": {},
   "outputs": [
    {
     "data": {
      "text/plain": [
       "<traitsui.ui.UI at 0x1b8c07a3518>"
      ]
     },
     "execution_count": 4,
     "metadata": {},
     "output_type": "execute_result"
    }
   ],
   "source": [
    "a = np.random.random((4, 4))\n",
    "mlab.clf()\n",
    "mlab.surf(a)\n",
    "mlab.show_pipeline()\n"
   ]
  },
  {
   "cell_type": "markdown",
   "metadata": {},
   "source": [
    "<center>\n",
    "<img src=\"MEDIA/m2/mlab/simple_pipeline_demo.png\" width=\"40%\" height=\"30%\" />\n",
    "</center>\n"
   ]
  },
  {
   "cell_type": "markdown",
   "metadata": {
    "slideshow": {
     "slide_type": "slide"
    }
   },
   "source": [
    "## Using `mlab.pipeline`\n",
    "方法1、用mlab.pipeline\n",
    "注意：上面surf绘图，生成的pipeline属性中有个array2d_source方法"
   ]
  },
  {
   "cell_type": "code",
   "execution_count": 5,
   "metadata": {},
   "outputs": [],
   "source": [
    "mlab.clf()\n",
    "src = mlab.pipeline.array2d_source(a)\n",
    "#一层一层的包裹，先用array2d_source包裹a，2维数据源"
   ]
  },
  {
   "cell_type": "code",
   "execution_count": 6,
   "metadata": {},
   "outputs": [],
   "source": [
    "warp = mlab.pipeline.warp_scalar(src)\n",
    "normals = mlab.pipeline.poly_data_normals(warp)\n",
    "surf = mlab.pipeline.surface(normals)\n",
    "#对src包裹，对warp再包裹，对normals再包裹."
   ]
  },
  {
   "cell_type": "markdown",
   "metadata": {},
   "source": [
    "* Does exactly what `mlab.surf(a)` does!\n",
    "* Lower-level but full control\n",
    "* More options\n",
    "方法1更加低层，其结果和mlab.surf是一样的."
   ]
  },
  {
   "cell_type": "markdown",
   "metadata": {
    "slideshow": {
     "slide_type": "slide"
    }
   },
   "source": [
    "## Exercise 练习1\n"
   ]
  },
  {
   "cell_type": "code",
   "execution_count": 12,
   "metadata": {},
   "outputs": [],
   "source": [
    "mlab.clf()\n",
    "x, y, z = np.ogrid[-5:5:64j, -5:5:64j, -5:5:64j]\n",
    "o = mlab.contour3d(x*x*0.5 + y*y + z*z*2)"
   ]
  },
  {
   "cell_type": "markdown",
   "metadata": {
    "slideshow": {
     "slide_type": "notes"
    }
   },
   "source": [
    "注：ogrid\n",
    "contour是轮廓,等值面，等值线的意思"
   ]
  },
  {
   "cell_type": "markdown",
   "metadata": {
    "slideshow": {
     "slide_type": "notes"
    }
   },
   "source": [
    "* Modify contour parameters 修改contour的参数\n",
    "\n",
    "* Hide the existing contours 隐藏当前等值面\n",
    "\n",
    "* Add a scalar cut plane 增加一个标量切面\n",
    "\n",
    "* Do these with the UI 用UI去实现\n",
    "\n",
    "* Do them with scripting (also use `mlab.pipeline`) 用脚本去实现当前的功能\n",
    "\n",
    "* Remove the scalar cut plane 移除标量切面\n"
   ]
  },
  {
   "cell_type": "markdown",
   "metadata": {
    "slideshow": {
     "slide_type": "slide"
    }
   },
   "source": [
    "#### Some tips: try these \n",
    "练习1的一些小提示"
   ]
  },
  {
   "cell_type": "code",
   "execution_count": 10,
   "metadata": {},
   "outputs": [
    {
     "data": {
      "text/plain": [
       "<mayavi.modules.grid_plane.GridPlane at 0x1b8c07fe518>"
      ]
     },
     "execution_count": 10,
     "metadata": {},
     "output_type": "execute_result"
    }
   ],
   "source": [
    "mlab.clf()\n",
    "x, y, z = np.ogrid[-5:5:64j, -5:5:64j, -5:5:64j]\n",
    "o = mlab.contour3d(x*x*0.5 + y*y + z*z*2) #绘图出来是一个isosurface对象，mayavi.modules.iso_surface.IsoSurface object at 0x00000206315B07D8.\n",
    "o.visible = False #可以指定实现在scene中显示该contour3d对象实例.\n",
    "p = o.parent #获取并创建一个该对象父类对象的实例,mayavi.core.module_manager.ModuleManager object at 0x000002061DAA70A0\n",
    "c = p.children #获取并创建该父类的一个子类实例，mayavi.modules.iso_surface.IsoSurface object at 0x00000206315B07D8\n",
    "\n",
    "#可以看到c的类型和o的类型是一致的，mayavi.modules.iso_surface.IsoSurface.\n",
    "o.remove() #直接移除该原来的对象\n",
    "mlab.pipeline.grid_plane(p) #在scene中创建网格平面，对象为父类对象类型."
   ]
  },
  {
   "cell_type": "markdown",
   "metadata": {
    "slideshow": {
     "slide_type": "slide"
    }
   },
   "source": [
    "* #### A useful trick 一个实用的小戏法\n",
    "\n",
    "- If you want to quickly configure parameters for a particular object\n",
    "    如果你想迅速配置某个具体特定对象的参数\n"
   ]
  },
  {
   "cell_type": "code",
   "execution_count": 47,
   "metadata": {},
   "outputs": [
    {
     "data": {
      "text/plain": [
       "<traitsui.ui.UI at 0x206283e8570>"
      ]
     },
     "execution_count": 47,
     "metadata": {},
     "output_type": "execute_result"
    }
   ],
   "source": [
    "p.edit_traits() #为该父类对象提供一个traits属性编辑界面\n",
    "# Will pop up a UI for `p` alone! "
   ]
  },
  {
   "cell_type": "markdown",
   "metadata": {
    "slideshow": {
     "slide_type": "slide"
    }
   },
   "source": [
    "## Recap 再概述一遍\n",
    "\n",
    "* `obj.visible`  控制原始对象是否显示\n",
    "* `obj.parent` 获得并创建该实例的父类对象实例\n",
    "* `obj.children` : modules have none 获得并创建父类对象的子类对象实例\n",
    "* 通过上述方法，其实并不需要知道obj的对象类型就可以创建一个同类型的初始化实例，但是具体属性需要再编辑.\n",
    "\n",
    "* `obj.remove()` 这个时候可以移除原始对象了\n",
    "* `mlab.pipeline`  lets us do more  这个时候再通过pipeline来控制边界更多的属性.\n",
    "* `obj.edit_traits()`: UI for `obj`\n",
    "\n",
    "* Right-click-menu equivalents are in `mlab.pipeline`\n"
   ]
  },
  {
   "cell_type": "markdown",
   "metadata": {
    "slideshow": {
     "slide_type": "slide"
    }
   },
   "source": [
    "### So how do you make a fancier script? 怎样写一个华丽的脚本\n",
    "\n",
    "Use script recording\n",
    "\n",
    "**Demo**\n"
   ]
  },
  {
   "cell_type": "markdown",
   "metadata": {
    "slideshow": {
     "slide_type": "slide"
    }
   },
   "source": [
    "### Exercise1.1\n"
   ]
  },
  {
   "cell_type": "code",
   "execution_count": 48,
   "metadata": {},
   "outputs": [
    {
     "data": {
      "text/plain": [
       "<mayavi.modules.streamline.Streamline at 0x20631f0d990>"
      ]
     },
     "execution_count": 48,
     "metadata": {},
     "output_type": "execute_result"
    }
   ],
   "source": [
    "mlab.test_flow()"
   ]
  },
  {
   "cell_type": "markdown",
   "metadata": {},
   "source": [
    "Add a Vector Cut Plane  增加一个矢量切面\n"
   ]
  },
  {
   "cell_type": "code",
   "execution_count": 49,
   "metadata": {
    "slideshow": {
     "slide_type": "fragment"
    }
   },
   "outputs": [
    {
     "data": {
      "text/plain": [
       "<mayavi.modules.vectors.Vectors at 0x206283ba200>"
      ]
     },
     "execution_count": 49,
     "metadata": {},
     "output_type": "execute_result"
    }
   ],
   "source": [
    "mlab.test_quiver3d()"
   ]
  },
  {
   "cell_type": "markdown",
   "metadata": {},
   "source": [
    "Hide vectors, add a Vector Cut Plane 隐藏矢量并增加一个矢量切面\n"
   ]
  },
  {
   "cell_type": "markdown",
   "metadata": {
    "slideshow": {
     "slide_type": "slide"
    }
   },
   "source": [
    "## Surprised?\n"
   ]
  },
  {
   "cell_type": "markdown",
   "metadata": {
    "slideshow": {
     "slide_type": "slide"
    }
   },
   "source": [
    "## So what is the problem?\n"
   ]
  },
  {
   "cell_type": "markdown",
   "metadata": {
    "slideshow": {
     "slide_type": "slide"
    }
   },
   "source": [
    "## Points? 点\n",
    "\n",
    "<center>\n",
    "<img src=\"MEDIA/m2/datasets/points.png\"/>\n",
    "</center>\n"
   ]
  },
  {
   "cell_type": "markdown",
   "metadata": {
    "slideshow": {
     "slide_type": "slide"
    }
   },
   "source": [
    "## Curve? 曲线\n",
    "\n",
    "<center>\n",
    "<img src=\"MEDIA/m2/datasets/wireframe.png\"/>\n",
    "</center>\n"
   ]
  },
  {
   "cell_type": "markdown",
   "metadata": {
    "slideshow": {
     "slide_type": "slide"
    }
   },
   "source": [
    "## Surface? 面\n",
    "\n",
    "<center>\n",
    "<img src=\"MEDIA/m2/datasets/surface.png\"/>\n",
    "</center>\n"
   ]
  },
  {
   "cell_type": "markdown",
   "metadata": {
    "slideshow": {
     "slide_type": "slide"
    }
   },
   "source": [
    "## Interior of sphere? 球体内部\n",
    "\n",
    "<center>\n",
    "<img src=\"MEDIA/m2/datasets/surface.png\"/>\n",
    "</center>\n"
   ]
  },
  {
   "cell_type": "markdown",
   "metadata": {
    "slideshow": {
     "slide_type": "slide"
    }
   },
   "source": [
    "\n",
    "## What is the intersection of a plane with each of these?\n",
    "* 切面与每个种类的焦点是什么？\n"
   ]
  },
  {
   "cell_type": "markdown",
   "metadata": {
    "slideshow": {
     "slide_type": "slide"
    }
   },
   "source": [
    "## Going deeper 再深入一步\n",
    "\n",
    "### Data sources 数据源\n"
   ]
  },
  {
   "cell_type": "markdown",
   "metadata": {
    "slideshow": {
     "slide_type": "slide"
    }
   },
   "source": [
    "## Datasets 数据集\n",
    "Quiver v/s Flow  箭头 VS 流线\n",
    "\n",
    "<table>\n",
    "<tr>\n",
    "<td><img src=\"MEDIA/m2/quiver_pipeline.png\" width=\"100%\"/></td>\n",
    "<td><img src=\"MEDIA/m2/flow_pipeline.png\" width=\"100%\"/></td>\n",
    "</tr>\n",
    "</table>\n"
   ]
  },
  {
   "cell_type": "markdown",
   "metadata": {
    "slideshow": {
     "slide_type": "slide"
    }
   },
   "source": [
    "## Data sources and Datasets\n",
    "\n",
    "* Intimately connected to VTK \"datasets\" 数据集合VTK的datasets紧密相关\n",
    "\n",
    "* Datasets 数据集包括结构，与结构相关的属性数据。\n",
    "\n",
    "   * Structure: Geometry and topology\n",
    "   * Attribute data associated with the structure\n",
    "\n",
    "\n",
    "* Example: Temperature distribution in the room 比如房间里温度分布\n",
    "* Example: Stress distribution on chair 比如椅子上的应力分布\n"
   ]
  },
  {
   "cell_type": "markdown",
   "metadata": {
    "slideshow": {
     "slide_type": "slide"
    }
   },
   "source": [
    "## Datasets in mlab MLAB中的数据集\n",
    "\n",
    "* `mlab`  provides a few data sources mlab中提供一些数据源\n",
    "\n",
    "* Not the most general currently 不太通用\n",
    " \n",
    "* Three broad categories: mlab中的数据集具体分为三类\n",
    "\n",
    "   1. Unconnected sources 不连接的数据源\n",
    "   1. Implicitly connected sources 隐式连接的数据源\n",
    "   1. Explicitly connected sources 显式连接的数据源 \n"
   ]
  },
  {
   "cell_type": "markdown",
   "metadata": {
    "slideshow": {
     "slide_type": "slide"
    }
   },
   "source": [
    "### Unconnected sources 不连接的数据源：标量散点（points3d）、向量散点（quiver3d）\n",
    "\n",
    "| `scalar_scatter` | `vector_scatter` |\n",
    "| ---------------- | ---------------- |\n",
    "| <img src=\"MEDIA/m2/mlab/points3d_ex.png\"/> | <img src=\"MEDIA/m2/mlab/quiver3d_ex.png\"/> |\n",
    "|`PolyData`      | `PolyData`    |\n",
    "|`mlab.points3d`   | `mlab.quiver3d` |\n"
   ]
  },
  {
   "cell_type": "markdown",
   "metadata": {
    "slideshow": {
     "slide_type": "slide"
    }
   },
   "source": [
    "### Implicitly-connected sources 隐式连接的数据源:标量场(contour3d)、向量场（流场flow）\n",
    "\n",
    "| `scalar_field`    |   `vector_field`  |\n",
    "| ----------------- | ---------------   |\n",
    "| <img src=\"MEDIA/m2/mlab/contour3d.png\" height=\"75%\" width=\"100%\"/> | <img src=\"MEDIA/m2/mlab/flow_ex.png\" width=\"75%\" height=\"60%\" /> |\n",
    "| `ImageData`       | `ImageData`     |\n",
    "| `mlab.contour3d`  | `mlab.flow`     |\n"
   ]
  },
  {
   "cell_type": "markdown",
   "metadata": {
    "slideshow": {
     "slide_type": "slide"
    }
   },
   "source": [
    "### Implicitly-connected sources 隐式连接的数据源:二维矩阵数据（array2d_source）\n",
    "\n",
    "`array2d_source`\n",
    "\n",
    "<img src=\"MEDIA/m2/mlab/imshow_ex.png\" width=\"50%\" height=\"50%\"/>\n",
    "\n",
    "`ImageData`\n",
    "\n",
    "`mlab.imshow`\n"
   ]
  },
  {
   "cell_type": "markdown",
   "metadata": {
    "slideshow": {
     "slide_type": "slide"
    }
   },
   "source": [
    "### Explicitly-connected sources 显式连接的数据源：由两点连线（plot3d）、由三点画三角形网格面（triangular_mesh）\n",
    "| `line_source`  | `triangular_mesh_source` |\n",
    "| -------------- | ---------------------- |\n",
    "| <img src=\"MEDIA/m2/mlab/plot3d_ex.png\"/> |  <img src=\"MEDIA/m2/mlab/triangular_mesh_ex.png\"/> |\n",
    "|`PolyData`      | `PolyData`    |\n",
    "|`mlab.plot3d`   | `mlab.triangular_mesh` |\n"
   ]
  },
  {
   "cell_type": "markdown",
   "metadata": {
    "slideshow": {
     "slide_type": "slide"
    }
   },
   "source": [
    "## Summary 总结一下：\n",
    "\n",
    "* Unconnected: points in space  不连接的主要为空间中的离散点\n",
    "\n",
    "* Connected: represent surface or volume 连接的主要表现为一个面或者一块体\n",
    "\n",
    "* Attributes associated with structure are rendered 结构包含了一部分的属性值\n"
   ]
  },
  {
   "cell_type": "markdown",
   "metadata": {
    "slideshow": {
     "slide_type": "slide"
    }
   },
   "source": [
    "## Exercise2\n",
    "\n",
    "* Run all the `mlab.test_*`  functions\n",
    "\n",
    "* Read the source for each\n",
    "\n",
    "* Inspect the pipeline for each example\n"
   ]
  },
  {
   "cell_type": "markdown",
   "metadata": {
    "slideshow": {
     "slide_type": "slide"
    }
   },
   "source": [
    "## Recap\n",
    "\n",
    "* `mlab`  gets you started\n",
    "* Pipeline and data flow 管线和数据流\n",
    "* Datasets are important! 数据集很重要\n"
   ]
  },
  {
   "cell_type": "markdown",
   "metadata": {
    "slideshow": {
     "slide_type": "slide"
    }
   },
   "source": [
    "## `mlab`  and Mayavi?  mlab和Mayavi什么关系？\n",
    "\n",
    "* `mlab` : thin layer over the Mayavi OO API. malb是Mayavi面向对象接口的薄层\n",
    "\n",
    "* `mlab`  commands return mayavi objects. mlab命令返回的是一个Mayavi对象\n"
   ]
  },
  {
   "cell_type": "markdown",
   "metadata": {
    "slideshow": {
     "slide_type": "slide"
    }
   },
   "source": [
    "## Exercise3\n",
    "\n",
    "* Visualize the following vector field 可视化下面的向量场\n"
   ]
  },
  {
   "cell_type": "code",
   "execution_count": 23,
   "metadata": {},
   "outputs": [
    {
     "data": {
      "text/plain": [
       "<mayavi.modules.streamline.Streamline at 0x125b59aaaf0>"
      ]
     },
     "execution_count": 23,
     "metadata": {},
     "output_type": "execute_result"
    }
   ],
   "source": [
    "from numpy import mgrid, sin, cos, pi\n",
    "s = slice(0, 1, 20j)\n",
    "\n",
    "x, y, z = mgrid[s,s,s] #首先网格是确定划分为空间三维的矩阵，三维矩阵有三个轴，x矩阵为空间网格的x轴属性，y，z为y轴属性，z轴属性.\n",
    "#构建空间位置属性，x，y，z对应每个空间轴.\n",
    "\n",
    "u = sin(pi*x) * cos(pi*z)\n",
    "v = -2*sin(pi*y) * cos(2*pi*z)\n",
    "w = cos(pi*x)*sin(pi*z) + cos(pi*y)*sin(2*pi*z)\n",
    "#构建多变量属性，u，v，w，为矢量或者说向量场.空间属性对应三个维度，矢量也为三个维度.\n",
    "\n",
    "mlab.flow(x, y, z, u, v, w, seed_scale=1,seed_resolution=5,integration_direction='both')"
   ]
  },
  {
   "cell_type": "markdown",
   "metadata": {
    "slideshow": {
     "slide_type": "slide"
    }
   },
   "source": [
    "### 将上述多变量可视化\n",
    "* 1、 Hints / Solution 提示和方案\n"
   ]
  },
  {
   "cell_type": "code",
   "execution_count": 29,
   "metadata": {},
   "outputs": [
    {
     "data": {
      "text/plain": [
       "<mayavi.modules.vector_cut_plane.VectorCutPlane at 0x125ad99fd58>"
      ]
     },
     "execution_count": 29,
     "metadata": {},
     "output_type": "execute_result"
    }
   ],
   "source": [
    "src = mlab.pipeline.vector_field(x, y, z, u, v, w) #将上述变量数据构建成向量场数据源.注意这是管线中构建向量场的函数.\n",
    "mlab.pipeline.vectors(src, mask_points=10, scale_factor=0.5) #将向量场在管线里面显示出来.\n",
    "\n",
    "mlab.pipeline.vector_cut_plane(src, mask_points=2, scale_factor=0.5) #在向量场中添加切面"
   ]
  },
  {
   "cell_type": "markdown",
   "metadata": {
    "slideshow": {
     "slide_type": "slide"
    }
   },
   "source": [
    "* 2、 Hints / Solution提示和方案\n"
   ]
  },
  {
   "cell_type": "code",
   "execution_count": 32,
   "metadata": {},
   "outputs": [
    {
     "data": {
      "text/plain": [
       "<mayavi.modules.iso_surface.IsoSurface at 0x125b5733e60>"
      ]
     },
     "execution_count": 32,
     "metadata": {},
     "output_type": "execute_result"
    }
   ],
   "source": [
    "mag = mlab.pipeline.extract_vector_norm(src) # 从向量场中提取mag ？\n",
    "mlab.pipeline.iso_surface(mag, contours=[1.9, 0.5]) #在管线中显示mag"
   ]
  },
  {
   "cell_type": "markdown",
   "metadata": {
    "slideshow": {
     "slide_type": "slide"
    }
   },
   "source": [
    "## Exercise: play with your own data\n",
    "\n",
    "Explore your own data with `mlab`\n"
   ]
  },
  {
   "cell_type": "markdown",
   "metadata": {
    "slideshow": {
     "slide_type": "slide"
    }
   },
   "source": [
    "## Exercise (if you don't have your own data)\n",
    "\n",
    "1. Start with flow for the Lorenz system\n",
    "1. Now extract the vector norm (use a filter)\n",
    "1. Plot iso-contours of this\n",
    "1. Figure out how to do this from the UI and `mlab.pipeline`\n"
   ]
  }
 ],
 "metadata": {
  "celltoolbar": "Slideshow",
  "kernelspec": {
   "display_name": "Python 3",
   "language": "python",
   "name": "python3"
  },
  "language_info": {
   "codemirror_mode": {
    "name": "ipython",
    "version": 3
   },
   "file_extension": ".py",
   "mimetype": "text/x-python",
   "name": "python",
   "nbconvert_exporter": "python",
   "pygments_lexer": "ipython3",
   "version": "3.6.4"
  },
  "livereveal": {
   "controls": true,
   "help": true,
   "scroll": true,
   "slideNumber": true,
   "transition": "none"
  }
 },
 "nbformat": 4,
 "nbformat_minor": 2
}
